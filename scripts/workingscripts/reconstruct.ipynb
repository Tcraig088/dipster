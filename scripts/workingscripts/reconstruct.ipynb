{
 "cells": [
  {
   "cell_type": "code",
   "execution_count": 1,
   "metadata": {},
   "outputs": [],
   "source": [
    "import os\n",
    "import numpy as np \n",
    "import sys\n",
    "\n",
    "sys.path.append(\"..\")\n",
    "import tomondt\n",
    "from tomondt import Operator\n",
    "import pickle"
   ]
  },
  {
   "cell_type": "code",
   "execution_count": 13,
   "metadata": {},
   "outputs": [],
   "source": [
    "times=  np.linspace(1, 100, 100)\n",
    "gr, alpha = (1+np.sqrt(5))/2, np.radians(140)\n",
    "angles = np.degrees(((times *gr*alpha)%alpha)-(alpha/2))\n",
    "\n",
    "main_path = 'Y:\\TimC\\DIPSTER-PublicationData\\Publication-Data'\n",
    "v_path = os.path.join(main_path, 'Volumes')\n",
    "ts_path = os.path.join(main_path, 'TiltSeries')\n",
    "\n",
    "for item in os.listdir(v_path):\n",
    "    if '.vmf' in item:\n",
    "        if 'Cube' in item:\n",
    "            full_path = os.path.join(v_path, item)\n",
    "            base_filename, extension = os.path.splitext(full_path)\n",
    "            vmf = tomondt.load_vmf(full_path)\n",
    "            ts = tomondt.Operator('cupy', 0).fp(vmf,angles)\n",
    "            with open(os.path.join(ts_path, base_filename+'-ts.pkl'), \"wb\") as pickleFile:\n",
    "                pickle.dump(ts, pickleFile)\n",
    "\n",
    "\n"
   ]
  },
  {
   "cell_type": "code",
   "execution_count": 2,
   "metadata": {},
   "outputs": [
    {
     "ename": "KeyboardInterrupt",
     "evalue": "",
     "output_type": "error",
     "traceback": [
      "\u001b[1;31m---------------------------------------------------------------------------\u001b[0m",
      "\u001b[1;31mKeyboardInterrupt\u001b[0m                         Traceback (most recent call last)",
      "\u001b[1;32md:\\Tim\\DIP-STER\\DIP-STER\\scripts\\reconstruct.ipynb Cell 3\u001b[0m line \u001b[0;36m1\n\u001b[0;32m     <a href='vscode-notebook-cell:/d%3A/Tim/DIP-STER/DIP-STER/scripts/reconstruct.ipynb#W2sZmlsZQ%3D%3D?line=13'>14</a>\u001b[0m algor \u001b[39m=\u001b[39m \u001b[39mlambda\u001b[39;00m x: tomondt\u001b[39m.\u001b[39malgorithms\u001b[39m.\u001b[39msirt(x)\n\u001b[0;32m     <a href='vscode-notebook-cell:/d%3A/Tim/DIP-STER/DIP-STER/scripts/reconstruct.ipynb#W2sZmlsZQ%3D%3D?line=14'>15</a>\u001b[0m new_path \u001b[39m=\u001b[39m os\u001b[39m.\u001b[39mpath\u001b[39m.\u001b[39mjoin(v_path, base_filename\u001b[39m+\u001b[39m\u001b[39m'\u001b[39m\u001b[39m-\u001b[39m\u001b[39m'\u001b[39m\u001b[39m+\u001b[39m \u001b[39mstr\u001b[39m((np\u001b[39m.\u001b[39mdegrees(alpha)\u001b[39m/\u001b[39m\u001b[39m2\u001b[39m)\u001b[39m.\u001b[39mastype(\u001b[39mint\u001b[39m))\u001b[39m+\u001b[39m\u001b[39m'\u001b[39m\u001b[39m-rec.vmf\u001b[39m\u001b[39m'\u001b[39m) \n\u001b[1;32m---> <a href='vscode-notebook-cell:/d%3A/Tim/DIP-STER/DIP-STER/scripts/reconstruct.ipynb#W2sZmlsZQ%3D%3D?line=15'>16</a>\u001b[0m ts \u001b[39m=\u001b[39m tomondt\u001b[39m.\u001b[39mOperator(\u001b[39m'\u001b[39m\u001b[39mcupy\u001b[39m\u001b[39m'\u001b[39m, \u001b[39m0\u001b[39m)\u001b[39m.\u001b[39mbp(new_path, ts ,algor, \u001b[39m50\u001b[39m)\n",
      "File \u001b[1;32md:\\Tim\\DIP-STER\\DIP-STER\\scripts\\..\\tomondt\\operators.py:102\u001b[0m, in \u001b[0;36mOperator.bp\u001b[1;34m(self, file, tiltseries, algor, frame, offset)\u001b[0m\n\u001b[0;32m    100\u001b[0m     obj \u001b[39m=\u001b[39m convert_array(obj, \u001b[39m'\u001b[39m\u001b[39mnumpy\u001b[39m\u001b[39m'\u001b[39m)\n\u001b[0;32m    101\u001b[0m     time_start, time_end, time_ave \u001b[39m=\u001b[39m np\u001b[39m.\u001b[39mmin(ts\u001b[39m.\u001b[39mtimes)\u001b[39m-\u001b[39mts\u001b[39m.\u001b[39mframetime, np\u001b[39m.\u001b[39mmax(ts\u001b[39m.\u001b[39mtimes), np\u001b[39m.\u001b[39mmean(ts\u001b[39m.\u001b[39mtimes)\u001b[39m+\u001b[39mts\u001b[39m.\u001b[39mframetime\n\u001b[1;32m--> 102\u001b[0m     vol\u001b[39m.\u001b[39mwrite_record(obj, time_ave, time_start, time_end)\n\u001b[0;32m    103\u001b[0m     i\u001b[39m+\u001b[39m\u001b[39m=\u001b[39moffset\n\u001b[0;32m    104\u001b[0m \u001b[39mreturn\u001b[39;00m vol\n",
      "File \u001b[1;32md:\\Tim\\DIP-STER\\DIP-STER\\scripts\\..\\tomondt\\structsio\\volumendt_versions\\v1.py:124\u001b[0m, in \u001b[0;36mVolumenDt_1v.write_record\u001b[1;34m(self, obj, time, time_start, time_end)\u001b[0m\n\u001b[0;32m    122\u001b[0m file\u001b[39m.\u001b[39mwrite(struct\u001b[39m.\u001b[39mpack(\u001b[39m'\u001b[39m\u001b[39mQ\u001b[39m\u001b[39m'\u001b[39m, \u001b[39mlen\u001b[39m(obj)))\n\u001b[0;32m    123\u001b[0m \u001b[39mself\u001b[39m\u001b[39m.\u001b[39mwrite_index \u001b[39m=\u001b[39m file\u001b[39m.\u001b[39mtell()\n\u001b[1;32m--> 124\u001b[0m file\u001b[39m.\u001b[39mwrite(obj)\n\u001b[0;32m    126\u001b[0m \u001b[39mself\u001b[39m\u001b[39m.\u001b[39mwrite_index \u001b[39m=\u001b[39m file\u001b[39m.\u001b[39mtell()\n",
      "\u001b[1;31mKeyboardInterrupt\u001b[0m: "
     ]
    }
   ],
   "source": [
    "times=  np.linspace(1, 100, 100)\n",
    "gr, alpha = (1+np.sqrt(5))/2, np.radians(140)\n",
    "angles = np.degrees(((times *gr*alpha)%alpha)-(alpha/2))\n",
    "\n",
    "main_path = 'Y:\\TimC\\DIPSTER-PublicationData\\Publication-Data'\n",
    "v_path = os.path.join(main_path, 'Reconstructions')\n",
    "ts_path = os.path.join(main_path, 'TiltSeries')\n",
    "\n",
    "for item in os.listdir(ts_path):\n",
    "    if '.pkl' in item:\n",
    "        full_path = os.path.join(ts_path, item)\n",
    "        base_filename, extension = os.path.splitext(full_path)\n",
    "        ts = pickle.load(open(full_path, 'rb'))\n",
    "        algor = lambda x: tomondt.algorithms.sirt(x)\n",
    "        new_path = os.path.join(v_path, base_filename+'-'+ str((np.degrees(alpha)/2).astype(int))+'-rec.vmf') \n",
    "        ts = tomondt.Operator('cupy', 0).bp(new_path, ts ,algor, 50)\n"
   ]
  },
  {
   "cell_type": "code",
   "execution_count": 6,
   "metadata": {},
   "outputs": [],
   "source": [
    "from skimage.metrics import structural_similarity as ssim\n",
    "from skimage.metrics import peak_signal_noise_ratio as psnr\n",
    "\n",
    "main_path = 'Y:\\TimC\\DIPSTER-PublicationData\\Publication-Data'\n",
    "v_path = os.path.join(main_path, 'Reconstructions')\n",
    "ts_path = os.path.join(main_path, 'Volumes')\n",
    "\n",
    "l_ssim = lambda x,y: ssim(x,y,data_range=1)\n",
    "\n",
    "\n",
    "\n",
    "ref = tomondt.load_vmf(os.path.join(ts_path,'Cage-1.vmf'))\n",
    "vol = tomondt.load_vmf(os.path.join(v_path,'Cage-1-ts-70-rec.vmf'))\n",
    "\n",
    "qr =tomondt.QualityReport(os.path.join(v_path, 'test_qr.h5df'))\n",
    "qr.add_test('SSIM',tomondt.qr.TestType.VolVol,l_ssim)\n",
    "qr.add_testdata('TestSample', ref,S001=vol )\n",
    "\n",
    "ref = tomondt.load_vmf(os.path.join(ts_path,'Cage-0.vmf'))\n",
    "vol = tomondt.load_vmf(os.path.join(v_path,'Cage-0-ts-70-rec.vmf'))\n",
    "qr.add_testdata('TestSample', ref,S000=vol )\n",
    "\n",
    "qr = tomondt.Operator().evaluate(qr,0)"
   ]
  },
  {
   "cell_type": "code",
   "execution_count": 2,
   "metadata": {},
   "outputs": [
    {
     "ename": "Exception",
     "evalue": "Unable to initialize Projector2D.",
     "output_type": "error",
     "traceback": [
      "\u001b[1;31m---------------------------------------------------------------------------\u001b[0m",
      "\u001b[1;31mException\u001b[0m                                 Traceback (most recent call last)",
      "\u001b[1;32md:\\Tim\\DIP-STER\\DIP-STER\\scripts\\reconstruct.ipynb Cell 5\u001b[0m line \u001b[0;36m1\n\u001b[0;32m     <a href='vscode-notebook-cell:/d%3A/Tim/DIP-STER/DIP-STER/scripts/reconstruct.ipynb#W5sZmlsZQ%3D%3D?line=10'>11</a>\u001b[0m ts \u001b[39m=\u001b[39m pickle\u001b[39m.\u001b[39mload(\u001b[39mopen\u001b[39m(os\u001b[39m.\u001b[39mpath\u001b[39m.\u001b[39mjoin(ts_path_2,\u001b[39m'\u001b[39m\u001b[39mCage-1-ts.pkl\u001b[39m\u001b[39m'\u001b[39m), \u001b[39m'\u001b[39m\u001b[39mrb\u001b[39m\u001b[39m'\u001b[39m))\n\u001b[0;32m     <a href='vscode-notebook-cell:/d%3A/Tim/DIP-STER/DIP-STER/scripts/reconstruct.ipynb#W5sZmlsZQ%3D%3D?line=11'>12</a>\u001b[0m angles \u001b[39m=\u001b[39m ts\u001b[39m.\u001b[39mangles\n\u001b[1;32m---> <a href='vscode-notebook-cell:/d%3A/Tim/DIP-STER/DIP-STER/scripts/reconstruct.ipynb#W5sZmlsZQ%3D%3D?line=12'>13</a>\u001b[0m ts\u001b[39m.\u001b[39mdata \u001b[39m=\u001b[39m tomondt\u001b[39m.\u001b[39malgorithms\u001b[39m.\u001b[39mforward_astra(ref,angles)\u001b[39m.\u001b[39mastype(np\u001b[39m.\u001b[39mfloat64)\n\u001b[0;32m     <a href='vscode-notebook-cell:/d%3A/Tim/DIP-STER/DIP-STER/scripts/reconstruct.ipynb#W5sZmlsZQ%3D%3D?line=13'>14</a>\u001b[0m \u001b[39m#ts.data = tomondt.utils.permute(ts.data,(0,1,2))\u001b[39;00m\n\u001b[0;32m     <a href='vscode-notebook-cell:/d%3A/Tim/DIP-STER/DIP-STER/scripts/reconstruct.ipynb#W5sZmlsZQ%3D%3D?line=14'>15</a>\u001b[0m vol \u001b[39m=\u001b[39m  tomondt\u001b[39m.\u001b[39malgorithms\u001b[39m.\u001b[39msirt_astra(ts,\u001b[39m100\u001b[39m)\n",
      "File \u001b[1;32md:\\Tim\\DIP-STER\\DIP-STER\\scripts\\..\\tomondt\\algorithms\\fp.py:37\u001b[0m, in \u001b[0;36mforward_astra\u001b[1;34m(volume, angles)\u001b[0m\n\u001b[0;32m     35\u001b[0m proj_geom \u001b[39m=\u001b[39m astra\u001b[39m.\u001b[39mcreate_proj_geom(\u001b[39m'\u001b[39m\u001b[39mparallel3d\u001b[39m\u001b[39m'\u001b[39m, \u001b[39m1\u001b[39m, \u001b[39m1\u001b[39m, z, np\u001b[39m.\u001b[39mmax((x,y)), angles)\n\u001b[0;32m     36\u001b[0m volume \u001b[39m=\u001b[39m volume\u001b[39m.\u001b[39mastype(np\u001b[39m.\u001b[39mfloat64)\n\u001b[1;32m---> 37\u001b[0m proj_id \u001b[39m=\u001b[39m astra\u001b[39m.\u001b[39mcreate_projector(\u001b[39m'\u001b[39m\u001b[39mcuda\u001b[39m\u001b[39m'\u001b[39m,proj_geom,vol_geom)\n\u001b[0;32m     38\u001b[0m sinogram_id, sinogram \u001b[39m=\u001b[39m astra\u001b[39m.\u001b[39mcreate_sino(volume, proj_id)\n\u001b[0;32m     39\u001b[0m astra\u001b[39m.\u001b[39mdata3d\u001b[39m.\u001b[39mdelete(sinogram_id)\n",
      "File \u001b[1;32mc:\\Users\\admin\\anaconda3\\envs\\tomo3dt-env\\Lib\\site-packages\\astra\\creators.py:567\u001b[0m, in \u001b[0;36mcreate_projector\u001b[1;34m(proj_type, proj_geom, vol_geom, options)\u001b[0m\n\u001b[0;32m    565\u001b[0m     \u001b[39mreturn\u001b[39;00m projector3d\u001b[39m.\u001b[39mcreate(cfg)\n\u001b[0;32m    566\u001b[0m \u001b[39melse\u001b[39;00m:\n\u001b[1;32m--> 567\u001b[0m     \u001b[39mreturn\u001b[39;00m projector\u001b[39m.\u001b[39mcreate(cfg)\n",
      "File \u001b[1;32mc:\\Users\\admin\\anaconda3\\envs\\tomo3dt-env\\Lib\\site-packages\\astra\\projector.py:36\u001b[0m, in \u001b[0;36mcreate\u001b[1;34m(config)\u001b[0m\n\u001b[0;32m     28\u001b[0m \u001b[39mdef\u001b[39;00m \u001b[39mcreate\u001b[39m(config):\n\u001b[0;32m     29\u001b[0m \u001b[39m    \u001b[39m\u001b[39m\"\"\"Create projector object.\u001b[39;00m\n\u001b[0;32m     30\u001b[0m \n\u001b[0;32m     31\u001b[0m \u001b[39m    :param config: Projector options.\u001b[39;00m\n\u001b[1;32m   (...)\u001b[0m\n\u001b[0;32m     34\u001b[0m \n\u001b[0;32m     35\u001b[0m \u001b[39m    \"\"\"\u001b[39;00m\n\u001b[1;32m---> 36\u001b[0m     \u001b[39mreturn\u001b[39;00m p\u001b[39m.\u001b[39mcreate(config)\n",
      "File \u001b[1;32mastra\\projector_c.pyx:67\u001b[0m, in \u001b[0;36mastra.projector_c.create\u001b[1;34m()\u001b[0m\n",
      "\u001b[1;31mException\u001b[0m: Unable to initialize Projector2D."
     ]
    }
   ],
   "source": [
    "from skimage.metrics import structural_similarity as ssim\n",
    "from skimage.metrics import peak_signal_noise_ratio as psnr\n",
    "import mrcz\n",
    "\n",
    "main_path = 'Y:\\TimC\\DIPSTER-PublicationData\\Publication-Data'\n",
    "v_path = os.path.join(main_path, 'Reconstructions')\n",
    "ts_path = os.path.join(main_path, 'Volumes')\n",
    "\n",
    "ref = tomondt.load_vmf(os.path.join(ts_path,'Cage-1.vmf')).read_record(0).astype(np.float64)\n",
    "ts_path_2 = os.path.join(main_path, 'TiltSeries')\n",
    "ts = pickle.load(open(os.path.join(ts_path_2,'Cage-1-ts.pkl'), 'rb'))\n",
    "angles = ts.angles\n",
    "ts.data = tomondt.algorithms.forward_astra(ref,angles).astype(np.float64)\n",
    "#ts.data = tomondt.utils.permute(ts.data,(0,1,2))\n",
    "vol =  tomondt.algorithms.sirt_astra(ts,100)\n",
    "print(ssim(ref,vol,data_range=1.1))\n",
    "view = tomondt.Viewer()\n",
    "mrcz.writeMRC(vol, os.path.join(v_path,'Cage-1-ts-70-rec.rec'))\n",
    "view.add_image(vol)\n",
    "view.add_image(ref)\n",
    "\n"
   ]
  },
  {
   "cell_type": "code",
   "execution_count": 11,
   "metadata": {},
   "outputs": [],
   "source": [
    "mrcz.writeMRC(ref, os.path.join(v_path,'ref.rec'))"
   ]
  },
  {
   "cell_type": "code",
   "execution_count": 9,
   "metadata": {},
   "outputs": [
    {
     "data": {
      "application/vnd.plotly.v1+json": {
       "config": {
        "plotlyServerURL": "https://plot.ly"
       },
       "data": [
        {
         "name": "SSIM",
         "type": "bar",
         "x": [
          "TestSample S001",
          "TestSample S000"
         ],
         "xaxis": "x",
         "y": [
          0.6425731889444151
         ],
         "yaxis": "y"
        }
       ],
       "layout": {
        "template": {
         "data": {
          "bar": [
           {
            "error_x": {
             "color": "#2a3f5f"
            },
            "error_y": {
             "color": "#2a3f5f"
            },
            "marker": {
             "line": {
              "color": "#E5ECF6",
              "width": 0.5
             },
             "pattern": {
              "fillmode": "overlay",
              "size": 10,
              "solidity": 0.2
             }
            },
            "type": "bar"
           }
          ],
          "barpolar": [
           {
            "marker": {
             "line": {
              "color": "#E5ECF6",
              "width": 0.5
             },
             "pattern": {
              "fillmode": "overlay",
              "size": 10,
              "solidity": 0.2
             }
            },
            "type": "barpolar"
           }
          ],
          "carpet": [
           {
            "aaxis": {
             "endlinecolor": "#2a3f5f",
             "gridcolor": "white",
             "linecolor": "white",
             "minorgridcolor": "white",
             "startlinecolor": "#2a3f5f"
            },
            "baxis": {
             "endlinecolor": "#2a3f5f",
             "gridcolor": "white",
             "linecolor": "white",
             "minorgridcolor": "white",
             "startlinecolor": "#2a3f5f"
            },
            "type": "carpet"
           }
          ],
          "choropleth": [
           {
            "colorbar": {
             "outlinewidth": 0,
             "ticks": ""
            },
            "type": "choropleth"
           }
          ],
          "contour": [
           {
            "colorbar": {
             "outlinewidth": 0,
             "ticks": ""
            },
            "colorscale": [
             [
              0,
              "#0d0887"
             ],
             [
              0.1111111111111111,
              "#46039f"
             ],
             [
              0.2222222222222222,
              "#7201a8"
             ],
             [
              0.3333333333333333,
              "#9c179e"
             ],
             [
              0.4444444444444444,
              "#bd3786"
             ],
             [
              0.5555555555555556,
              "#d8576b"
             ],
             [
              0.6666666666666666,
              "#ed7953"
             ],
             [
              0.7777777777777778,
              "#fb9f3a"
             ],
             [
              0.8888888888888888,
              "#fdca26"
             ],
             [
              1,
              "#f0f921"
             ]
            ],
            "type": "contour"
           }
          ],
          "contourcarpet": [
           {
            "colorbar": {
             "outlinewidth": 0,
             "ticks": ""
            },
            "type": "contourcarpet"
           }
          ],
          "heatmap": [
           {
            "colorbar": {
             "outlinewidth": 0,
             "ticks": ""
            },
            "colorscale": [
             [
              0,
              "#0d0887"
             ],
             [
              0.1111111111111111,
              "#46039f"
             ],
             [
              0.2222222222222222,
              "#7201a8"
             ],
             [
              0.3333333333333333,
              "#9c179e"
             ],
             [
              0.4444444444444444,
              "#bd3786"
             ],
             [
              0.5555555555555556,
              "#d8576b"
             ],
             [
              0.6666666666666666,
              "#ed7953"
             ],
             [
              0.7777777777777778,
              "#fb9f3a"
             ],
             [
              0.8888888888888888,
              "#fdca26"
             ],
             [
              1,
              "#f0f921"
             ]
            ],
            "type": "heatmap"
           }
          ],
          "heatmapgl": [
           {
            "colorbar": {
             "outlinewidth": 0,
             "ticks": ""
            },
            "colorscale": [
             [
              0,
              "#0d0887"
             ],
             [
              0.1111111111111111,
              "#46039f"
             ],
             [
              0.2222222222222222,
              "#7201a8"
             ],
             [
              0.3333333333333333,
              "#9c179e"
             ],
             [
              0.4444444444444444,
              "#bd3786"
             ],
             [
              0.5555555555555556,
              "#d8576b"
             ],
             [
              0.6666666666666666,
              "#ed7953"
             ],
             [
              0.7777777777777778,
              "#fb9f3a"
             ],
             [
              0.8888888888888888,
              "#fdca26"
             ],
             [
              1,
              "#f0f921"
             ]
            ],
            "type": "heatmapgl"
           }
          ],
          "histogram": [
           {
            "marker": {
             "pattern": {
              "fillmode": "overlay",
              "size": 10,
              "solidity": 0.2
             }
            },
            "type": "histogram"
           }
          ],
          "histogram2d": [
           {
            "colorbar": {
             "outlinewidth": 0,
             "ticks": ""
            },
            "colorscale": [
             [
              0,
              "#0d0887"
             ],
             [
              0.1111111111111111,
              "#46039f"
             ],
             [
              0.2222222222222222,
              "#7201a8"
             ],
             [
              0.3333333333333333,
              "#9c179e"
             ],
             [
              0.4444444444444444,
              "#bd3786"
             ],
             [
              0.5555555555555556,
              "#d8576b"
             ],
             [
              0.6666666666666666,
              "#ed7953"
             ],
             [
              0.7777777777777778,
              "#fb9f3a"
             ],
             [
              0.8888888888888888,
              "#fdca26"
             ],
             [
              1,
              "#f0f921"
             ]
            ],
            "type": "histogram2d"
           }
          ],
          "histogram2dcontour": [
           {
            "colorbar": {
             "outlinewidth": 0,
             "ticks": ""
            },
            "colorscale": [
             [
              0,
              "#0d0887"
             ],
             [
              0.1111111111111111,
              "#46039f"
             ],
             [
              0.2222222222222222,
              "#7201a8"
             ],
             [
              0.3333333333333333,
              "#9c179e"
             ],
             [
              0.4444444444444444,
              "#bd3786"
             ],
             [
              0.5555555555555556,
              "#d8576b"
             ],
             [
              0.6666666666666666,
              "#ed7953"
             ],
             [
              0.7777777777777778,
              "#fb9f3a"
             ],
             [
              0.8888888888888888,
              "#fdca26"
             ],
             [
              1,
              "#f0f921"
             ]
            ],
            "type": "histogram2dcontour"
           }
          ],
          "mesh3d": [
           {
            "colorbar": {
             "outlinewidth": 0,
             "ticks": ""
            },
            "type": "mesh3d"
           }
          ],
          "parcoords": [
           {
            "line": {
             "colorbar": {
              "outlinewidth": 0,
              "ticks": ""
             }
            },
            "type": "parcoords"
           }
          ],
          "pie": [
           {
            "automargin": true,
            "type": "pie"
           }
          ],
          "scatter": [
           {
            "fillpattern": {
             "fillmode": "overlay",
             "size": 10,
             "solidity": 0.2
            },
            "type": "scatter"
           }
          ],
          "scatter3d": [
           {
            "line": {
             "colorbar": {
              "outlinewidth": 0,
              "ticks": ""
             }
            },
            "marker": {
             "colorbar": {
              "outlinewidth": 0,
              "ticks": ""
             }
            },
            "type": "scatter3d"
           }
          ],
          "scattercarpet": [
           {
            "marker": {
             "colorbar": {
              "outlinewidth": 0,
              "ticks": ""
             }
            },
            "type": "scattercarpet"
           }
          ],
          "scattergeo": [
           {
            "marker": {
             "colorbar": {
              "outlinewidth": 0,
              "ticks": ""
             }
            },
            "type": "scattergeo"
           }
          ],
          "scattergl": [
           {
            "marker": {
             "colorbar": {
              "outlinewidth": 0,
              "ticks": ""
             }
            },
            "type": "scattergl"
           }
          ],
          "scattermapbox": [
           {
            "marker": {
             "colorbar": {
              "outlinewidth": 0,
              "ticks": ""
             }
            },
            "type": "scattermapbox"
           }
          ],
          "scatterpolar": [
           {
            "marker": {
             "colorbar": {
              "outlinewidth": 0,
              "ticks": ""
             }
            },
            "type": "scatterpolar"
           }
          ],
          "scatterpolargl": [
           {
            "marker": {
             "colorbar": {
              "outlinewidth": 0,
              "ticks": ""
             }
            },
            "type": "scatterpolargl"
           }
          ],
          "scatterternary": [
           {
            "marker": {
             "colorbar": {
              "outlinewidth": 0,
              "ticks": ""
             }
            },
            "type": "scatterternary"
           }
          ],
          "surface": [
           {
            "colorbar": {
             "outlinewidth": 0,
             "ticks": ""
            },
            "colorscale": [
             [
              0,
              "#0d0887"
             ],
             [
              0.1111111111111111,
              "#46039f"
             ],
             [
              0.2222222222222222,
              "#7201a8"
             ],
             [
              0.3333333333333333,
              "#9c179e"
             ],
             [
              0.4444444444444444,
              "#bd3786"
             ],
             [
              0.5555555555555556,
              "#d8576b"
             ],
             [
              0.6666666666666666,
              "#ed7953"
             ],
             [
              0.7777777777777778,
              "#fb9f3a"
             ],
             [
              0.8888888888888888,
              "#fdca26"
             ],
             [
              1,
              "#f0f921"
             ]
            ],
            "type": "surface"
           }
          ],
          "table": [
           {
            "cells": {
             "fill": {
              "color": "#EBF0F8"
             },
             "line": {
              "color": "white"
             }
            },
            "header": {
             "fill": {
              "color": "#C8D4E3"
             },
             "line": {
              "color": "white"
             }
            },
            "type": "table"
           }
          ]
         },
         "layout": {
          "annotationdefaults": {
           "arrowcolor": "#2a3f5f",
           "arrowhead": 0,
           "arrowwidth": 1
          },
          "autotypenumbers": "strict",
          "coloraxis": {
           "colorbar": {
            "outlinewidth": 0,
            "ticks": ""
           }
          },
          "colorscale": {
           "diverging": [
            [
             0,
             "#8e0152"
            ],
            [
             0.1,
             "#c51b7d"
            ],
            [
             0.2,
             "#de77ae"
            ],
            [
             0.3,
             "#f1b6da"
            ],
            [
             0.4,
             "#fde0ef"
            ],
            [
             0.5,
             "#f7f7f7"
            ],
            [
             0.6,
             "#e6f5d0"
            ],
            [
             0.7,
             "#b8e186"
            ],
            [
             0.8,
             "#7fbc41"
            ],
            [
             0.9,
             "#4d9221"
            ],
            [
             1,
             "#276419"
            ]
           ],
           "sequential": [
            [
             0,
             "#0d0887"
            ],
            [
             0.1111111111111111,
             "#46039f"
            ],
            [
             0.2222222222222222,
             "#7201a8"
            ],
            [
             0.3333333333333333,
             "#9c179e"
            ],
            [
             0.4444444444444444,
             "#bd3786"
            ],
            [
             0.5555555555555556,
             "#d8576b"
            ],
            [
             0.6666666666666666,
             "#ed7953"
            ],
            [
             0.7777777777777778,
             "#fb9f3a"
            ],
            [
             0.8888888888888888,
             "#fdca26"
            ],
            [
             1,
             "#f0f921"
            ]
           ],
           "sequentialminus": [
            [
             0,
             "#0d0887"
            ],
            [
             0.1111111111111111,
             "#46039f"
            ],
            [
             0.2222222222222222,
             "#7201a8"
            ],
            [
             0.3333333333333333,
             "#9c179e"
            ],
            [
             0.4444444444444444,
             "#bd3786"
            ],
            [
             0.5555555555555556,
             "#d8576b"
            ],
            [
             0.6666666666666666,
             "#ed7953"
            ],
            [
             0.7777777777777778,
             "#fb9f3a"
            ],
            [
             0.8888888888888888,
             "#fdca26"
            ],
            [
             1,
             "#f0f921"
            ]
           ]
          },
          "colorway": [
           "#636efa",
           "#EF553B",
           "#00cc96",
           "#ab63fa",
           "#FFA15A",
           "#19d3f3",
           "#FF6692",
           "#B6E880",
           "#FF97FF",
           "#FECB52"
          ],
          "font": {
           "color": "#2a3f5f"
          },
          "geo": {
           "bgcolor": "white",
           "lakecolor": "white",
           "landcolor": "#E5ECF6",
           "showlakes": true,
           "showland": true,
           "subunitcolor": "white"
          },
          "hoverlabel": {
           "align": "left"
          },
          "hovermode": "closest",
          "mapbox": {
           "style": "light"
          },
          "paper_bgcolor": "white",
          "plot_bgcolor": "#E5ECF6",
          "polar": {
           "angularaxis": {
            "gridcolor": "white",
            "linecolor": "white",
            "ticks": ""
           },
           "bgcolor": "#E5ECF6",
           "radialaxis": {
            "gridcolor": "white",
            "linecolor": "white",
            "ticks": ""
           }
          },
          "scene": {
           "xaxis": {
            "backgroundcolor": "#E5ECF6",
            "gridcolor": "white",
            "gridwidth": 2,
            "linecolor": "white",
            "showbackground": true,
            "ticks": "",
            "zerolinecolor": "white"
           },
           "yaxis": {
            "backgroundcolor": "#E5ECF6",
            "gridcolor": "white",
            "gridwidth": 2,
            "linecolor": "white",
            "showbackground": true,
            "ticks": "",
            "zerolinecolor": "white"
           },
           "zaxis": {
            "backgroundcolor": "#E5ECF6",
            "gridcolor": "white",
            "gridwidth": 2,
            "linecolor": "white",
            "showbackground": true,
            "ticks": "",
            "zerolinecolor": "white"
           }
          },
          "shapedefaults": {
           "line": {
            "color": "#2a3f5f"
           }
          },
          "ternary": {
           "aaxis": {
            "gridcolor": "white",
            "linecolor": "white",
            "ticks": ""
           },
           "baxis": {
            "gridcolor": "white",
            "linecolor": "white",
            "ticks": ""
           },
           "bgcolor": "#E5ECF6",
           "caxis": {
            "gridcolor": "white",
            "linecolor": "white",
            "ticks": ""
           }
          },
          "title": {
           "x": 0.05
          },
          "xaxis": {
           "automargin": true,
           "gridcolor": "white",
           "linecolor": "white",
           "ticks": "",
           "title": {
            "standoff": 15
           },
           "zerolinecolor": "white",
           "zerolinewidth": 2
          },
          "yaxis": {
           "automargin": true,
           "gridcolor": "white",
           "linecolor": "white",
           "ticks": "",
           "title": {
            "standoff": 15
           },
           "zerolinecolor": "white",
           "zerolinewidth": 2
          }
         }
        },
        "xaxis": {
         "anchor": "y",
         "domain": [
          0,
          1
         ]
        },
        "yaxis": {
         "anchor": "x",
         "domain": [
          0,
          1
         ]
        }
       }
      }
     },
     "metadata": {},
     "output_type": "display_data"
    },
    {
     "data": {
      "application/vnd.plotly.v1+json": {
       "config": {
        "plotlyServerURL": "https://plot.ly"
       },
       "data": [
        {
         "name": "TestSample S001",
         "type": "scatter",
         "x": [
          25.5,
          26.5,
          27.5,
          28.5,
          29.5,
          30.5,
          31.5,
          32.5,
          33.5,
          34.5,
          35.5,
          36.5,
          37.5,
          38.5,
          39.5,
          40.5,
          41.5,
          42.5,
          43.5,
          44.5,
          45.5,
          46.5,
          47.5,
          48.5,
          49.5,
          50.5,
          51.5,
          52.5,
          53.5,
          54.5,
          55.5,
          56.5,
          57.5,
          58.5,
          59.5,
          60.5,
          61.5,
          62.5,
          63.5,
          64.5,
          65.5,
          66.5,
          67.5,
          68.5,
          69.5,
          70.5,
          71.5,
          72.5,
          73.5,
          74.5,
          75.5
         ],
         "xaxis": "x",
         "y": [
          0.6428473409173731,
          0.6445429260437048,
          0.6453170693823964,
          0.6456530670930868,
          0.6465366126266873,
          0.6497100881421387,
          0.6503760277108726,
          0.6505388057255385,
          0.652760192614462,
          0.6530550691485849,
          0.6535417978811796,
          0.6530422805845344,
          0.6531492646406634,
          0.6558366950990212,
          0.6566079341949893,
          0.6564414676341643,
          0.6562050985386199,
          0.6563267135877384,
          0.6563262712440362,
          0.6564067535720259,
          0.6567314707795192,
          0.6589299591504578,
          0.6588239106667085,
          0.6593135875718595,
          0.658883856079574,
          0.6590441589551601,
          0.6592991964644046,
          0.6594878733219623,
          0.6592885508727679,
          0.6599522437253046,
          0.6602711610982589,
          0.6603087849683248,
          0.6602896998967959,
          0.6603161253521503,
          0.6598064380411485,
          0.6596882106752745,
          0.6598017572275486,
          0.6591372352224076,
          0.6592805013034365,
          0.6624084485198393,
          0.6624885316054874,
          0.6624648396641747,
          0.6644712429086872,
          0.6644681150186199,
          0.664962159850846,
          0.6649272167769215,
          0.6648911011089351,
          0.665480708207384,
          0.6659774449959136,
          0.6657223776667689,
          0.6655568799747361
         ],
         "yaxis": "y"
        },
        {
         "name": "TestSample S000",
         "type": "scatter",
         "x": [
          25.5,
          26.5,
          27.5,
          28.5,
          29.5,
          30.5,
          31.5,
          32.5,
          33.5,
          34.5,
          35.5,
          36.5,
          37.5,
          38.5,
          39.5,
          40.5,
          41.5,
          42.5,
          43.5,
          44.5,
          45.5,
          46.5,
          47.5,
          48.5,
          49.5,
          50.5,
          51.5,
          52.5,
          53.5,
          54.5,
          55.5,
          56.5,
          57.5,
          58.5,
          59.5,
          60.5,
          61.5,
          62.5,
          63.5,
          64.5,
          65.5,
          66.5,
          67.5,
          68.5,
          69.5,
          70.5,
          71.5,
          72.5,
          73.5,
          74.5,
          75.5
         ],
         "xaxis": "x",
         "y": [
          0.6398812379529728,
          0.6394911388144139,
          0.6395999531477038,
          0.6395081690069995,
          0.6394887561877698,
          0.64192253436827,
          0.6422740524070988,
          0.6420697171591713,
          0.6428048104518957,
          0.6425627482804094,
          0.6427299746549034,
          0.6428158433405667,
          0.6429105442475619,
          0.6437032214668444,
          0.6437721258996296,
          0.643774817267171,
          0.6435404239674459,
          0.6434508277548248,
          0.642453969512896,
          0.6423295441160736,
          0.642434258483041,
          0.6433306358703548,
          0.6427800157927058,
          0.6431607130120028,
          0.6429509256692904,
          0.6428604579958385,
          0.6422906635085859,
          0.6425858063494198,
          0.6423369945048899,
          0.6426191701372846,
          0.6426505608552251,
          0.6423150742695003,
          0.642292397342885,
          0.642402421019587,
          0.6404325500804625,
          0.6401249759463814,
          0.6401685762756734,
          0.6400972916858034,
          0.640008569066702,
          0.6434773753614925,
          0.6436253638592371,
          0.6436004611052066,
          0.6446697528228145,
          0.6442303494276048,
          0.6446782811480444,
          0.6447218867953244,
          0.6447282358846518,
          0.6446209340116492,
          0.6447556106950518,
          0.6447120354764434,
          0.6444858817073924
         ],
         "yaxis": "y"
        }
       ],
       "layout": {
        "template": {
         "data": {
          "bar": [
           {
            "error_x": {
             "color": "#2a3f5f"
            },
            "error_y": {
             "color": "#2a3f5f"
            },
            "marker": {
             "line": {
              "color": "#E5ECF6",
              "width": 0.5
             },
             "pattern": {
              "fillmode": "overlay",
              "size": 10,
              "solidity": 0.2
             }
            },
            "type": "bar"
           }
          ],
          "barpolar": [
           {
            "marker": {
             "line": {
              "color": "#E5ECF6",
              "width": 0.5
             },
             "pattern": {
              "fillmode": "overlay",
              "size": 10,
              "solidity": 0.2
             }
            },
            "type": "barpolar"
           }
          ],
          "carpet": [
           {
            "aaxis": {
             "endlinecolor": "#2a3f5f",
             "gridcolor": "white",
             "linecolor": "white",
             "minorgridcolor": "white",
             "startlinecolor": "#2a3f5f"
            },
            "baxis": {
             "endlinecolor": "#2a3f5f",
             "gridcolor": "white",
             "linecolor": "white",
             "minorgridcolor": "white",
             "startlinecolor": "#2a3f5f"
            },
            "type": "carpet"
           }
          ],
          "choropleth": [
           {
            "colorbar": {
             "outlinewidth": 0,
             "ticks": ""
            },
            "type": "choropleth"
           }
          ],
          "contour": [
           {
            "colorbar": {
             "outlinewidth": 0,
             "ticks": ""
            },
            "colorscale": [
             [
              0,
              "#0d0887"
             ],
             [
              0.1111111111111111,
              "#46039f"
             ],
             [
              0.2222222222222222,
              "#7201a8"
             ],
             [
              0.3333333333333333,
              "#9c179e"
             ],
             [
              0.4444444444444444,
              "#bd3786"
             ],
             [
              0.5555555555555556,
              "#d8576b"
             ],
             [
              0.6666666666666666,
              "#ed7953"
             ],
             [
              0.7777777777777778,
              "#fb9f3a"
             ],
             [
              0.8888888888888888,
              "#fdca26"
             ],
             [
              1,
              "#f0f921"
             ]
            ],
            "type": "contour"
           }
          ],
          "contourcarpet": [
           {
            "colorbar": {
             "outlinewidth": 0,
             "ticks": ""
            },
            "type": "contourcarpet"
           }
          ],
          "heatmap": [
           {
            "colorbar": {
             "outlinewidth": 0,
             "ticks": ""
            },
            "colorscale": [
             [
              0,
              "#0d0887"
             ],
             [
              0.1111111111111111,
              "#46039f"
             ],
             [
              0.2222222222222222,
              "#7201a8"
             ],
             [
              0.3333333333333333,
              "#9c179e"
             ],
             [
              0.4444444444444444,
              "#bd3786"
             ],
             [
              0.5555555555555556,
              "#d8576b"
             ],
             [
              0.6666666666666666,
              "#ed7953"
             ],
             [
              0.7777777777777778,
              "#fb9f3a"
             ],
             [
              0.8888888888888888,
              "#fdca26"
             ],
             [
              1,
              "#f0f921"
             ]
            ],
            "type": "heatmap"
           }
          ],
          "heatmapgl": [
           {
            "colorbar": {
             "outlinewidth": 0,
             "ticks": ""
            },
            "colorscale": [
             [
              0,
              "#0d0887"
             ],
             [
              0.1111111111111111,
              "#46039f"
             ],
             [
              0.2222222222222222,
              "#7201a8"
             ],
             [
              0.3333333333333333,
              "#9c179e"
             ],
             [
              0.4444444444444444,
              "#bd3786"
             ],
             [
              0.5555555555555556,
              "#d8576b"
             ],
             [
              0.6666666666666666,
              "#ed7953"
             ],
             [
              0.7777777777777778,
              "#fb9f3a"
             ],
             [
              0.8888888888888888,
              "#fdca26"
             ],
             [
              1,
              "#f0f921"
             ]
            ],
            "type": "heatmapgl"
           }
          ],
          "histogram": [
           {
            "marker": {
             "pattern": {
              "fillmode": "overlay",
              "size": 10,
              "solidity": 0.2
             }
            },
            "type": "histogram"
           }
          ],
          "histogram2d": [
           {
            "colorbar": {
             "outlinewidth": 0,
             "ticks": ""
            },
            "colorscale": [
             [
              0,
              "#0d0887"
             ],
             [
              0.1111111111111111,
              "#46039f"
             ],
             [
              0.2222222222222222,
              "#7201a8"
             ],
             [
              0.3333333333333333,
              "#9c179e"
             ],
             [
              0.4444444444444444,
              "#bd3786"
             ],
             [
              0.5555555555555556,
              "#d8576b"
             ],
             [
              0.6666666666666666,
              "#ed7953"
             ],
             [
              0.7777777777777778,
              "#fb9f3a"
             ],
             [
              0.8888888888888888,
              "#fdca26"
             ],
             [
              1,
              "#f0f921"
             ]
            ],
            "type": "histogram2d"
           }
          ],
          "histogram2dcontour": [
           {
            "colorbar": {
             "outlinewidth": 0,
             "ticks": ""
            },
            "colorscale": [
             [
              0,
              "#0d0887"
             ],
             [
              0.1111111111111111,
              "#46039f"
             ],
             [
              0.2222222222222222,
              "#7201a8"
             ],
             [
              0.3333333333333333,
              "#9c179e"
             ],
             [
              0.4444444444444444,
              "#bd3786"
             ],
             [
              0.5555555555555556,
              "#d8576b"
             ],
             [
              0.6666666666666666,
              "#ed7953"
             ],
             [
              0.7777777777777778,
              "#fb9f3a"
             ],
             [
              0.8888888888888888,
              "#fdca26"
             ],
             [
              1,
              "#f0f921"
             ]
            ],
            "type": "histogram2dcontour"
           }
          ],
          "mesh3d": [
           {
            "colorbar": {
             "outlinewidth": 0,
             "ticks": ""
            },
            "type": "mesh3d"
           }
          ],
          "parcoords": [
           {
            "line": {
             "colorbar": {
              "outlinewidth": 0,
              "ticks": ""
             }
            },
            "type": "parcoords"
           }
          ],
          "pie": [
           {
            "automargin": true,
            "type": "pie"
           }
          ],
          "scatter": [
           {
            "fillpattern": {
             "fillmode": "overlay",
             "size": 10,
             "solidity": 0.2
            },
            "type": "scatter"
           }
          ],
          "scatter3d": [
           {
            "line": {
             "colorbar": {
              "outlinewidth": 0,
              "ticks": ""
             }
            },
            "marker": {
             "colorbar": {
              "outlinewidth": 0,
              "ticks": ""
             }
            },
            "type": "scatter3d"
           }
          ],
          "scattercarpet": [
           {
            "marker": {
             "colorbar": {
              "outlinewidth": 0,
              "ticks": ""
             }
            },
            "type": "scattercarpet"
           }
          ],
          "scattergeo": [
           {
            "marker": {
             "colorbar": {
              "outlinewidth": 0,
              "ticks": ""
             }
            },
            "type": "scattergeo"
           }
          ],
          "scattergl": [
           {
            "marker": {
             "colorbar": {
              "outlinewidth": 0,
              "ticks": ""
             }
            },
            "type": "scattergl"
           }
          ],
          "scattermapbox": [
           {
            "marker": {
             "colorbar": {
              "outlinewidth": 0,
              "ticks": ""
             }
            },
            "type": "scattermapbox"
           }
          ],
          "scatterpolar": [
           {
            "marker": {
             "colorbar": {
              "outlinewidth": 0,
              "ticks": ""
             }
            },
            "type": "scatterpolar"
           }
          ],
          "scatterpolargl": [
           {
            "marker": {
             "colorbar": {
              "outlinewidth": 0,
              "ticks": ""
             }
            },
            "type": "scatterpolargl"
           }
          ],
          "scatterternary": [
           {
            "marker": {
             "colorbar": {
              "outlinewidth": 0,
              "ticks": ""
             }
            },
            "type": "scatterternary"
           }
          ],
          "surface": [
           {
            "colorbar": {
             "outlinewidth": 0,
             "ticks": ""
            },
            "colorscale": [
             [
              0,
              "#0d0887"
             ],
             [
              0.1111111111111111,
              "#46039f"
             ],
             [
              0.2222222222222222,
              "#7201a8"
             ],
             [
              0.3333333333333333,
              "#9c179e"
             ],
             [
              0.4444444444444444,
              "#bd3786"
             ],
             [
              0.5555555555555556,
              "#d8576b"
             ],
             [
              0.6666666666666666,
              "#ed7953"
             ],
             [
              0.7777777777777778,
              "#fb9f3a"
             ],
             [
              0.8888888888888888,
              "#fdca26"
             ],
             [
              1,
              "#f0f921"
             ]
            ],
            "type": "surface"
           }
          ],
          "table": [
           {
            "cells": {
             "fill": {
              "color": "#EBF0F8"
             },
             "line": {
              "color": "white"
             }
            },
            "header": {
             "fill": {
              "color": "#C8D4E3"
             },
             "line": {
              "color": "white"
             }
            },
            "type": "table"
           }
          ]
         },
         "layout": {
          "annotationdefaults": {
           "arrowcolor": "#2a3f5f",
           "arrowhead": 0,
           "arrowwidth": 1
          },
          "autotypenumbers": "strict",
          "coloraxis": {
           "colorbar": {
            "outlinewidth": 0,
            "ticks": ""
           }
          },
          "colorscale": {
           "diverging": [
            [
             0,
             "#8e0152"
            ],
            [
             0.1,
             "#c51b7d"
            ],
            [
             0.2,
             "#de77ae"
            ],
            [
             0.3,
             "#f1b6da"
            ],
            [
             0.4,
             "#fde0ef"
            ],
            [
             0.5,
             "#f7f7f7"
            ],
            [
             0.6,
             "#e6f5d0"
            ],
            [
             0.7,
             "#b8e186"
            ],
            [
             0.8,
             "#7fbc41"
            ],
            [
             0.9,
             "#4d9221"
            ],
            [
             1,
             "#276419"
            ]
           ],
           "sequential": [
            [
             0,
             "#0d0887"
            ],
            [
             0.1111111111111111,
             "#46039f"
            ],
            [
             0.2222222222222222,
             "#7201a8"
            ],
            [
             0.3333333333333333,
             "#9c179e"
            ],
            [
             0.4444444444444444,
             "#bd3786"
            ],
            [
             0.5555555555555556,
             "#d8576b"
            ],
            [
             0.6666666666666666,
             "#ed7953"
            ],
            [
             0.7777777777777778,
             "#fb9f3a"
            ],
            [
             0.8888888888888888,
             "#fdca26"
            ],
            [
             1,
             "#f0f921"
            ]
           ],
           "sequentialminus": [
            [
             0,
             "#0d0887"
            ],
            [
             0.1111111111111111,
             "#46039f"
            ],
            [
             0.2222222222222222,
             "#7201a8"
            ],
            [
             0.3333333333333333,
             "#9c179e"
            ],
            [
             0.4444444444444444,
             "#bd3786"
            ],
            [
             0.5555555555555556,
             "#d8576b"
            ],
            [
             0.6666666666666666,
             "#ed7953"
            ],
            [
             0.7777777777777778,
             "#fb9f3a"
            ],
            [
             0.8888888888888888,
             "#fdca26"
            ],
            [
             1,
             "#f0f921"
            ]
           ]
          },
          "colorway": [
           "#636efa",
           "#EF553B",
           "#00cc96",
           "#ab63fa",
           "#FFA15A",
           "#19d3f3",
           "#FF6692",
           "#B6E880",
           "#FF97FF",
           "#FECB52"
          ],
          "font": {
           "color": "#2a3f5f"
          },
          "geo": {
           "bgcolor": "white",
           "lakecolor": "white",
           "landcolor": "#E5ECF6",
           "showlakes": true,
           "showland": true,
           "subunitcolor": "white"
          },
          "hoverlabel": {
           "align": "left"
          },
          "hovermode": "closest",
          "mapbox": {
           "style": "light"
          },
          "paper_bgcolor": "white",
          "plot_bgcolor": "#E5ECF6",
          "polar": {
           "angularaxis": {
            "gridcolor": "white",
            "linecolor": "white",
            "ticks": ""
           },
           "bgcolor": "#E5ECF6",
           "radialaxis": {
            "gridcolor": "white",
            "linecolor": "white",
            "ticks": ""
           }
          },
          "scene": {
           "xaxis": {
            "backgroundcolor": "#E5ECF6",
            "gridcolor": "white",
            "gridwidth": 2,
            "linecolor": "white",
            "showbackground": true,
            "ticks": "",
            "zerolinecolor": "white"
           },
           "yaxis": {
            "backgroundcolor": "#E5ECF6",
            "gridcolor": "white",
            "gridwidth": 2,
            "linecolor": "white",
            "showbackground": true,
            "ticks": "",
            "zerolinecolor": "white"
           },
           "zaxis": {
            "backgroundcolor": "#E5ECF6",
            "gridcolor": "white",
            "gridwidth": 2,
            "linecolor": "white",
            "showbackground": true,
            "ticks": "",
            "zerolinecolor": "white"
           }
          },
          "shapedefaults": {
           "line": {
            "color": "#2a3f5f"
           }
          },
          "ternary": {
           "aaxis": {
            "gridcolor": "white",
            "linecolor": "white",
            "ticks": ""
           },
           "baxis": {
            "gridcolor": "white",
            "linecolor": "white",
            "ticks": ""
           },
           "bgcolor": "#E5ECF6",
           "caxis": {
            "gridcolor": "white",
            "linecolor": "white",
            "ticks": ""
           }
          },
          "title": {
           "x": 0.05
          },
          "xaxis": {
           "automargin": true,
           "gridcolor": "white",
           "linecolor": "white",
           "ticks": "",
           "title": {
            "standoff": 15
           },
           "zerolinecolor": "white",
           "zerolinewidth": 2
          },
          "yaxis": {
           "automargin": true,
           "gridcolor": "white",
           "linecolor": "white",
           "ticks": "",
           "title": {
            "standoff": 15
           },
           "zerolinecolor": "white",
           "zerolinewidth": 2
          }
         }
        },
        "xaxis": {
         "anchor": "y",
         "domain": [
          0,
          1
         ]
        },
        "yaxis": {
         "anchor": "x",
         "domain": [
          0,
          1
         ]
        }
       }
      }
     },
     "metadata": {},
     "output_type": "display_data"
    },
    {
     "ename": "PicklingError",
     "evalue": "Can't pickle <function <lambda> at 0x000001A7526F84A0>: attribute lookup <lambda> on __main__ failed",
     "output_type": "error",
     "traceback": [
      "\u001b[1;31m---------------------------------------------------------------------------\u001b[0m",
      "\u001b[1;31mPicklingError\u001b[0m                             Traceback (most recent call last)",
      "\u001b[1;32md:\\Tim\\DIP-STER\\DIP-STER\\scripts\\reconstruct.ipynb Cell 5\u001b[0m line \u001b[0;36m3\n\u001b[0;32m      <a href='vscode-notebook-cell:/d%3A/Tim/DIP-STER/DIP-STER/scripts/reconstruct.ipynb#W4sZmlsZQ%3D%3D?line=0'>1</a>\u001b[0m p \u001b[39m=\u001b[39m tomondt\u001b[39m.\u001b[39mPlots()\n\u001b[0;32m      <a href='vscode-notebook-cell:/d%3A/Tim/DIP-STER/DIP-STER/scripts/reconstruct.ipynb#W4sZmlsZQ%3D%3D?line=1'>2</a>\u001b[0m p\u001b[39m.\u001b[39mplot_qr(qr,\u001b[39m3\u001b[39m, \u001b[39mTrue\u001b[39;00m)\n\u001b[1;32m----> <a href='vscode-notebook-cell:/d%3A/Tim/DIP-STER/DIP-STER/scripts/reconstruct.ipynb#W4sZmlsZQ%3D%3D?line=2'>3</a>\u001b[0m pickle\u001b[39m.\u001b[39mdump(qr, \u001b[39mopen\u001b[39m(os\u001b[39m.\u001b[39mpath\u001b[39m.\u001b[39mjoin(v_path, \u001b[39m'\u001b[39m\u001b[39mtest_qr.pkl\u001b[39m\u001b[39m'\u001b[39m), \u001b[39m'\u001b[39m\u001b[39mwb\u001b[39m\u001b[39m'\u001b[39m))\n",
      "\u001b[1;31mPicklingError\u001b[0m: Can't pickle <function <lambda> at 0x000001A7526F84A0>: attribute lookup <lambda> on __main__ failed"
     ]
    }
   ],
   "source": [
    "p = tomondt.Plots()\n",
    "p.plot_qr(qr,3, True)\n",
    "pickle.dump(qr, open(os.path.join(v_path, 'test_qr.pkl'), 'wb'))"
   ]
  }
 ],
 "metadata": {
  "kernelspec": {
   "display_name": "tomo3dt-env",
   "language": "python",
   "name": "python3"
  },
  "language_info": {
   "codemirror_mode": {
    "name": "ipython",
    "version": 3
   },
   "file_extension": ".py",
   "mimetype": "text/x-python",
   "name": "python",
   "nbconvert_exporter": "python",
   "pygments_lexer": "ipython3",
   "version": "3.11.4"
  },
  "orig_nbformat": 4
 },
 "nbformat": 4,
 "nbformat_minor": 2
}
