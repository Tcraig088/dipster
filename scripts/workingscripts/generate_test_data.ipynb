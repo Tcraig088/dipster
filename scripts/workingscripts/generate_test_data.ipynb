{
 "cells": [
  {
   "cell_type": "code",
   "execution_count": null,
   "metadata": {},
   "outputs": [],
   "source": [
    "import os\n",
    "import numpy as np \n",
    "import sys\n",
    "import stackview\n",
    "sys.path.append(\"..\")\n",
    "import tomondt\n",
    "from tomondt import Operator\n",
    "import pickle\n",
    "paths = [os.path.join(os.getcwd(),\"..\", \"Data\", \"NC-\"+ str(i)+\".vmf\") for i in range(4)]\n"
   ]
  },
  {
   "cell_type": "code",
   "execution_count": null,
   "metadata": {},
   "outputs": [],
   "source": [
    "times=  np.linspace(1, 100, 100)\n",
    "gr, alpha = (1+np.sqrt(5))/2, np.radians(140)\n",
    "angles = np.degrees(((times *gr*alpha)%alpha)-(alpha/2))\n",
    "nc =  tomondt.load_phantom(\"nanocage\").astype(float)\n",
    "pb = (512 - 307) // 2\n",
    "pa = 512 - 307 - pb\n",
    "nc = np.pad(nc, ((pb, pa), (pb, pa), (pb, pa)), mode=\"constant\", constant_values=0)\n",
    "\n",
    "paths = [os.path.join(os.getcwd(),\"..\", \"Data\", \"NC-\"+ str(i)+\".vmf\") for i in range(4)]\n",
    "for i in range(4):\n",
    "    vmf = tomondt.load_vmf(paths[i],nc)\n",
    "    bd = lambda x: tomondt.deformations.beamdamage(x, i*0.2, i*0.02)\n",
    "    vmf = Operator('cupy',0).deform(vmf,times, bd)\n",
    "\n",
    "\n"
   ]
  },
  {
   "cell_type": "code",
   "execution_count": null,
   "metadata": {},
   "outputs": [],
   "source": [
    "\n",
    "vmf = tomondt.load_vmf(paths[3])\n",
    "tomondt.Viewer().add_volume(vmf)"
   ]
  },
  {
   "cell_type": "code",
   "execution_count": null,
   "metadata": {},
   "outputs": [],
   "source": [
    "ts_path = r'\\\\ematbyname\\emat\\TimC\\DIPSTER-PublicationData\\Publication-Data\\TiltSeries'\n",
    "vol_path = r'\\\\ematbyname\\emat\\TimC\\DIPSTER-PublicationData\\Publication-Data\\Volumes'\n",
    "\n",
    "ref_name = os.path.join(vol_path, 'Cage-2.vmf') \n",
    "times=  np.linspace(1, 100, 100)\n",
    "gr, alpha = (1+np.sqrt(5))/2, np.radians(60)\n",
    "angles = np.degrees(((times *gr*alpha)%alpha)-(alpha/2))\n",
    "\n",
    "ts_name = os.path.join(ts_path, 'Cage-2-30-ts.pkl')\n",
    "ts_name_origin = os.path.join(ts_path, 'Cage-2-ts.pkl')\n",
    "\n",
    "vmf = tomondt.load_vmf(ref_name)\n",
    "scale= 0.08\n",
    "ts = Operator('cupy',0).fp(vmf, angles)\n",
    "#ts = pickle.load(open(ts_name_origin, \"rb\"))\n",
    "#noise_mask = np.random.poisson(np.ones(ts.data.shape))\n",
    "#ts.data = ts.data + (scale*noise_mask)\n",
    "#ts.data = (ts.data -np.min(ts.data))/(np.max(ts.data)-np.min(ts.data))\n",
    "#ts = pickle.load(open(ts_name, \"rb\"))\n",
    "#td = tomondt.utils.permute(ts.data, (2,0,1))\n",
    "#viewer = tomondt.Viewer()\n",
    "#viewer.add_image(td)\n",
    "    #stackview.slice(td, continuous_update=True)\n",
    "pickle.dump(ts, open(ts_name, \"wb\"))\n",
    "    "
   ]
  }
 ],
 "metadata": {
  "kernelspec": {
   "display_name": "dipster-env2",
   "language": "python",
   "name": "python3"
  },
  "language_info": {
   "codemirror_mode": {
    "name": "ipython",
    "version": 3
   },
   "file_extension": ".py",
   "mimetype": "text/x-python",
   "name": "python",
   "nbconvert_exporter": "python",
   "pygments_lexer": "ipython3",
   "version": "3.11.5"
  },
  "orig_nbformat": 4
 },
 "nbformat": 4,
 "nbformat_minor": 2
}
