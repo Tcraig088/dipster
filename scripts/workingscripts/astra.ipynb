{
 "cells": [
  {
   "cell_type": "code",
   "execution_count": null,
   "metadata": {},
   "outputs": [],
   "source": [
    "import os\n",
    "import numpy as np \n",
    "import sys\n",
    "\n",
    "sys.path.append(\"..\")\n",
    "import tomondt\n",
    "from tomondt import Operator\n",
    "import pickle\n",
    "from skimage.metrics import structural_similarity as ssim\n",
    "from skimage.metrics import peak_signal_noise_ratio as psnr\n",
    "import mrcz\n",
    "\n",
    "main_path = 'Y:\\TimC\\DIPSTER-PublicationData\\Publication-Data'\n",
    "v_path = os.path.join(main_path, 'Reconstructions')\n",
    "ts_path = os.path.join(main_path, 'Volumes')\n",
    "view = tomondt.Viewer()\n",
    "\n",
    "ref = tomondt.load_vmf(os.path.join(ts_path,'Cage-1.vmf')).read_record(0).astype(np.float64)\n",
    "ts_path_2 = os.path.join(main_path, 'TiltSeries')\n",
    "ts = pickle.load(open(os.path.join(ts_path_2,'Cage-1-ts.pkl'), 'rb'))\n",
    "angles = ts.angles\n",
    "ts.data = tomondt.algorithms.forward_astra(ref,angles).astype(np.float64)\n",
    "\n",
    "ts.data = tomondt.utils.permute(ts.data,(0,1,2))\n",
    "vol =  tomondt.algorithms.sirt_astra(ts,100)\n",
    "print(ssim(ref,vol,data_range=1.1))\n",
    "\n",
    "mrcz.writeMRC(vol, os.path.join(v_path,'Cage-1-ts-70-rec.rec'))\n",
    "view.add_image(vol)\n",
    "view.add_image(ref)"
   ]
  },
  {
   "cell_type": "code",
   "execution_count": 2,
   "metadata": {},
   "outputs": [
    {
     "data": {
      "text/plain": [
       "<Image layer 'Image' at 0x1a2b0d01010>"
      ]
     },
     "execution_count": 2,
     "metadata": {},
     "output_type": "execute_result"
    }
   ],
   "source": [
    "import os\n",
    "import numpy as np \n",
    "import sys\n",
    "\n",
    "sys.path.append(\"..\")\n",
    "import tomondt\n",
    "from tomondt import Operator\n",
    "import pickle\n",
    "from skimage.metrics import structural_similarity as ssim\n",
    "from skimage.metrics import peak_signal_noise_ratio as psnr\n",
    "import mrcz\n",
    "from dipster import tomo\n",
    "\n",
    "main_path = 'Y:\\TimC\\DIPSTER-PublicationData\\Publication-Data'\n",
    "v_path = os.path.join(main_path, 'Reconstructions')\n",
    "ts_path = os.path.join(main_path, 'Volumes')\n",
    "view = tomondt.Viewer()\n",
    "\n",
    "ref = tomondt.load_vmf(os.path.join(ts_path,'Cage-1.vmf')).read_record(0).astype(np.float64)\n",
    "ts_path_2 = os.path.join(main_path, 'TiltSeries')\n",
    "ts = pickle.load(open(os.path.join(ts_path_2,'Cage-1-ts.pkl'), 'rb'))\n",
    "ts.data = ts.data[:,:,:,None]\n",
    "angles = ts.angles\n",
    "for i in range(ref.shape[2]):\n",
    "    ts.data[:,i,:,:][:,None,:,:] = tomo.fp_astra(ref[:,i,:,None][:,None,:,:],angles).astype(np.float64)\n",
    "view.add_image(ts.data.squeeze())\n",
    "#arr = np.tile(angles, (len(angles), 1)) \n",
    "#vol = np.zeros((512,512,512,1))\n",
    "#for i in range(ref.shape[1]):\n",
    "#    vol[:,i,:,:][:,None,:,:] =  tomo.bp_astra(ts.data[:,i,:,:][:,None,:,:],arr,20)\n",
    "#print(ssim(ref,vol.squeeze(),data_range=1.1))\n",
    "\n",
    "#mrcz.writeMRC(vol, os.path.join(v_path,'Cage-1-ts-70-rec.rec'))\n",
    "#view.add_image(vol.squeeze())\n",
    "#view.add_image(ref)"
   ]
  },
  {
   "cell_type": "code",
   "execution_count": null,
   "metadata": {},
   "outputs": [],
   "source": [
    "obj = tomondt.utils.permute(vol,(0,1,2,3)).squeeze()\n",
    "print(ssim(ref,obj,data_range=1.1))\n",
    "view = tomondt.Viewer()\n",
    "view.add_image(obj)\n",
    "view.add_image(ref)"
   ]
  }
 ],
 "metadata": {
  "kernelspec": {
   "display_name": "tomo3dt-env",
   "language": "python",
   "name": "python3"
  },
  "language_info": {
   "codemirror_mode": {
    "name": "ipython",
    "version": 3
   },
   "file_extension": ".py",
   "mimetype": "text/x-python",
   "name": "python",
   "nbconvert_exporter": "python",
   "pygments_lexer": "ipython3",
   "version": "3.11.4"
  }
 },
 "nbformat": 4,
 "nbformat_minor": 2
}
