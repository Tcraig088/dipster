{
 "cells": [
  {
   "cell_type": "code",
   "execution_count": 1,
   "metadata": {},
   "outputs": [],
   "source": [
    "import os \n",
    "import sys\n",
    "sys.path.append(\"..\")\n",
    "\n",
    "import pickle \n",
    "import numpy as np\n",
    "import torch \n",
    "import wandb\n",
    "\n",
    "import tomondt\n",
    "from tomondt import Operator, Viewer\n",
    "from dipster.solver import Solver\n",
    "from dipster import alignments, tomo"
   ]
  },
  {
   "cell_type": "code",
   "execution_count": 2,
   "metadata": {},
   "outputs": [],
   "source": [
    "times=  np.linspace(1, 100, 100)\n",
    "gr, alpha = (1+np.sqrt(5))/2, np.radians(140)\n",
    "angles = np.degrees(((times *gr*alpha)%alpha)-(alpha/2))\n",
    "\n",
    "ts_path = os.path.join('Y:\\TimC\\DIPSTER-PublicationData\\Publication-Data\\TiltSeries',\"Cage-0-ts.pkl\")\n",
    "v_path = os.path.join('Y:\\TimC\\DIPSTER-PublicationData\\Publication-Data\\Volumes',\"Cage-0.vmf\")\n",
    "ts = pickle.load(open(ts_path, 'rb'))\n",
    "vmf = tomondt.load_vmf(v_path)\n",
    "\n",
    "nc = vmf.read_record(0)\n",
    "ts = tomondt.algorithms.forwardproject(vmf.read_record(0), angles)\n",
    "ts = tomondt.TiltSeriesnDt(ts,angles, times)\n",
    "#obj = tomondt.algorithms.sirt(ts)\n",
    "\n",
    "num_rows = len(angles)\n",
    "arr = np.tile(angles, (num_rows, 1)) \n",
    "\n",
    "batch = 4\n",
    "sino = np.zeros((512, 512, 100,1))\n",
    "obj =  np.zeros((512, 512, 512,1))\n",
    "for i in range(512//batch):\n",
    "    bs, be = batch*i, (batch*(i+1))\n",
    "    sino[:,bs:be,:,:] = tomo.fp(vmf.read_record(0)[:,bs:be,:,None], angles)\n",
    "    obj[:,bs:be,:,:] = tomo.bp(sino[:,bs:be,:,:], arr, iters=10)\n",
    "sino = sino.squeeze()\n",
    "#obj = obj.squeeze()\n",
    "\n",
    "\n",
    "import copy\n",
    "obj2 = copy.deepcopy(obj)"
   ]
  },
  {
   "cell_type": "code",
   "execution_count": 3,
   "metadata": {},
   "outputs": [
    {
     "data": {
      "text/plain": [
       "<Image layer 'z obj' at 0x1c2c4de4110>"
      ]
     },
     "execution_count": 3,
     "metadata": {},
     "output_type": "execute_result"
    }
   ],
   "source": [
    "\n",
    "#obj = tomondt.utils.permute(obj2, (2,1,0,3)).squeeze()\n",
    "\n",
    "viewer = tomondt.Viewer()\n",
    "\n",
    "viewer.add_image(nc[256,:,:].squeeze(), name='x ref')\n",
    "viewer.add_image(obj[256,:,:].squeeze(), name='x obj')\n",
    "\n",
    "viewer.add_image(nc[:,256,:].squeeze(), name='y ref')\n",
    "viewer.add_image(obj[:,256,:].squeeze(), name='y obj')\n",
    "\n",
    "viewer.add_image(nc[:,:,256].squeeze(), name='z ref')\n",
    "viewer.add_image(obj[:,:,256].squeeze(), name='z obj')\n",
    "#list = np.argsort(angles)\n",
    "\n",
    "\n",
    "\n"
   ]
  }
 ],
 "metadata": {
  "kernelspec": {
   "display_name": "tomo3dt-env",
   "language": "python",
   "name": "python3"
  },
  "language_info": {
   "codemirror_mode": {
    "name": "ipython",
    "version": 3
   },
   "file_extension": ".py",
   "mimetype": "text/x-python",
   "name": "python",
   "nbconvert_exporter": "python",
   "pygments_lexer": "ipython3",
   "version": "3.11.4"
  },
  "orig_nbformat": 4
 },
 "nbformat": 4,
 "nbformat_minor": 2
}
