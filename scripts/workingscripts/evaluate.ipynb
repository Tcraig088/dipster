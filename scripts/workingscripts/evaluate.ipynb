{
 "cells": [
  {
   "cell_type": "code",
   "execution_count": 9,
   "metadata": {},
   "outputs": [],
   "source": [
    "import os \n",
    "import sys\n",
    "import pickle \n",
    "import hyperspy.api as hs\n",
    "sys.path.append(\"..\")\n",
    "import tomondt\n",
    "from tomondt import Operator, Viewer, utils\n",
    "\n",
    "import numpy as np\n",
    "import torch \n",
    "import sys\n",
    "import wandb\n",
    "\n",
    "sys.path.append(\"..\")\n",
    "\n",
    "from tqdm import tqdm\n",
    "from time import time\n",
    "\n",
    "from dipster.solver import Solver\n",
    "from dipster import alignments, tomo\n",
    "\n",
    "\n"
   ]
  },
  {
   "cell_type": "code",
   "execution_count": 10,
   "metadata": {},
   "outputs": [],
   "source": [
    "rebin = True\n",
    "using =  3\n",
    "sampleid = 'Cage'\n",
    "\n",
    "description = \"\"\n",
    "atype = 'model'\n",
    "meta = {}\n",
    "meta['tiltseries'] = sampleid+'-'+str(using)+'-ts.pkl'\n",
    "vol = sampleid +\"-\"+ str(using)+\".vmf\""
   ]
  },
  {
   "cell_type": "code",
   "execution_count": 11,
   "metadata": {},
   "outputs": [],
   "source": [
    "#Load in Data\n",
    "ts_path = os.path.join(r'\\\\ematbyname\\emat\\TimC\\DIPSTER-PublicationData\\Publication-Data\\TiltSeries',r\"Rod-0-ts.pkl\")\n",
    "v_path = os.path.join(r'\\\\ematbyname\\emat\\TimC\\DIPSTER-PublicationData\\Publication-Data\\Volumes',r\"Rod-0.vmf\")\n",
    "ts = pickle.load(open(ts_path, 'rb'))\n",
    "#ts.data = ts.data[:,:,:,None]\n",
    "\n",
    "\n",
    "if rebin == True:\n",
    "    ts.data = alignments.rebin(ts.data, 4)\n",
    "    ts.pixelsize = 4.0"
   ]
  },
  {
   "cell_type": "code",
   "execution_count": 12,
   "metadata": {},
   "outputs": [
    {
     "data": {
      "text/html": [
       "wandb version 0.16.0 is available!  To upgrade, please run:\n",
       " $ pip install wandb --upgrade"
      ],
      "text/plain": [
       "<IPython.core.display.HTML object>"
      ]
     },
     "metadata": {},
     "output_type": "display_data"
    },
    {
     "data": {
      "text/html": [
       "Tracking run with wandb version 0.15.12"
      ],
      "text/plain": [
       "<IPython.core.display.HTML object>"
      ]
     },
     "metadata": {},
     "output_type": "display_data"
    },
    {
     "data": {
      "text/html": [
       "Run data is saved locally in <code>C:\\Users\\TCraig\\AppData\\Local\\Temp\\wandb\\run-20231113_211107-e3lcpfn3</code>"
      ],
      "text/plain": [
       "<IPython.core.display.HTML object>"
      ]
     },
     "metadata": {},
     "output_type": "display_data"
    },
    {
     "data": {
      "text/html": [
       "Syncing run <strong><a href='https://wandb.ai/emat/DIP-STER-Rod/runs/e3lcpfn3' target=\"_blank\">ancient-firebrand-3</a></strong> to <a href='https://wandb.ai/emat/DIP-STER-Rod' target=\"_blank\">Weights & Biases</a> (<a href='https://wandb.me/run' target=\"_blank\">docs</a>)<br/>"
      ],
      "text/plain": [
       "<IPython.core.display.HTML object>"
      ]
     },
     "metadata": {},
     "output_type": "display_data"
    },
    {
     "data": {
      "text/html": [
       " View project at <a href='https://wandb.ai/emat/DIP-STER-Rod' target=\"_blank\">https://wandb.ai/emat/DIP-STER-Rod</a>"
      ],
      "text/plain": [
       "<IPython.core.display.HTML object>"
      ]
     },
     "metadata": {},
     "output_type": "display_data"
    },
    {
     "data": {
      "text/html": [
       " View run at <a href='https://wandb.ai/emat/DIP-STER-Rod/runs/e3lcpfn3' target=\"_blank\">https://wandb.ai/emat/DIP-STER-Rod/runs/e3lcpfn3</a>"
      ],
      "text/plain": [
       "<IPython.core.display.HTML object>"
      ]
     },
     "metadata": {},
     "output_type": "display_data"
    },
    {
     "name": "stderr",
     "output_type": "stream",
     "text": [
      "WARNING:py.warnings:d:\\Code\\Python\\dippy\\DIP-STER\\scripts\\..\\tomondt\\structsio\\volumendt_versions\\v1.py:151: FutureWarning: Calling int on a single element Series is deprecated and will raise a TypeError in the future. Use int(ser.iloc[0]) instead\n",
      "  file.seek(int(position))\n",
      "\n",
      "WARNING:py.warnings:d:\\Code\\Python\\dippy\\DIP-STER\\scripts\\..\\tomondt\\structsio\\volumendt_versions\\v1.py:152: FutureWarning: Calling int on a single element Series is deprecated and will raise a TypeError in the future. Use int(ser.iloc[0]) instead\n",
      "  obj = file.read(int(dsize))\n",
      "\n",
      "\u001b[34m\u001b[1mwandb\u001b[0m: \u001b[33mWARNING\u001b[0m A graphql request initiated by the public wandb API timed out (timeout=19 sec). Create a new API with an integer timeout larger than 19, e.g., `api = wandb.Api(timeout=29)` to increase the graphql timeout.\n",
      "\u001b[34m\u001b[1mwandb\u001b[0m: \u001b[33mWARNING\u001b[0m A graphql request initiated by the public wandb API timed out (timeout=19 sec). Create a new API with an integer timeout larger than 19, e.g., `api = wandb.Api(timeout=29)` to increase the graphql timeout.\n"
     ]
    },
    {
     "data": {
      "text/html": [
       "Waiting for W&B process to finish... <strong style=\"color:green\">(success).</strong>"
      ],
      "text/plain": [
       "<IPython.core.display.HTML object>"
      ]
     },
     "metadata": {},
     "output_type": "display_data"
    },
    {
     "data": {
      "text/html": [
       " View run <strong style=\"color:#cdcd00\">ancient-firebrand-3</strong> at: <a href='https://wandb.ai/emat/DIP-STER-Rod/runs/e3lcpfn3' target=\"_blank\">https://wandb.ai/emat/DIP-STER-Rod/runs/e3lcpfn3</a><br/>Synced 6 W&B file(s), 15000 media file(s), 10000 artifact file(s) and 0 other file(s)"
      ],
      "text/plain": [
       "<IPython.core.display.HTML object>"
      ]
     },
     "metadata": {},
     "output_type": "display_data"
    },
    {
     "data": {
      "text/html": [
       "Find logs at: <code>C:\\Users\\TCraig\\AppData\\Local\\Temp\\wandb\\run-20231113_211107-e3lcpfn3\\logs</code>"
      ],
      "text/plain": [
       "<IPython.core.display.HTML object>"
      ]
     },
     "metadata": {},
     "output_type": "display_data"
    }
   ],
   "source": [
    "os.environ[\"WANDB_DIR\"] = \"..\\wandb\"\n",
    "run = wandb.init(project='DIP-STER-Rod')\n",
    "#run = wandb.init(settings=wandb.Settings(start_method=\"thread\"))\n",
    "net =  Solver(ts).cuda().eval(tomondt.load_vmf(v_path),100,4)\n",
    "net.params.max_steps=30000\n",
    "net.params.noise_regularizer = 0.00001\n",
    "net.params.max_steps=250000\n",
    "net.params.style_size=16\n",
    "net.params.up_factor = 8\n",
    "#net.params.style_size=32\n",
    "#net.params.up_factor = 4\n",
    "net.params.depth = 4\n",
    "net.params.gamma = 0.1\n",
    "#net.params.hidden_dim= 1024\n",
    "#net.params.batch_size=4\n",
    "#net.params.lr=0.0005\n",
    "net.params.epoch_steps = True\n",
    "meta = net.params.to_dict()\n",
    "if net.params.eval_type == 'volume':\n",
    "    meta['volume'] = vol\n",
    "artifact = wandb.Artifact(run.name, type=atype, description=description, metadata=meta)\n",
    "\n",
    "net.train()\n",
    "net.reconstruct('all', os.path.join(os.getcwd(),\"..\", \"Data\", run.name+\".vmf\"))\n",
    "#for i in range(100):\n",
    "#    net.params.max_steps+=10000\n",
    "#    net.train()\n",
    "#    net.reconstruct('all', os.path.join(os.getcwd(),\"..\", \"Data\", str(i)+'-run-'+run.name+\".vmf\"))\n",
    "wandb.finish()\n",
    "\n",
    "\n"
   ]
  },
  {
   "cell_type": "code",
   "execution_count": null,
   "metadata": {},
   "outputs": [],
   "source": []
  }
 ],
 "metadata": {
  "kernelspec": {
   "display_name": "build-env",
   "language": "python",
   "name": "python3"
  },
  "language_info": {
   "codemirror_mode": {
    "name": "ipython",
    "version": 3
   },
   "file_extension": ".py",
   "mimetype": "text/x-python",
   "name": "python",
   "nbconvert_exporter": "python",
   "pygments_lexer": "ipython3",
   "version": "3.11.5"
  },
  "orig_nbformat": 4
 },
 "nbformat": 4,
 "nbformat_minor": 2
}
