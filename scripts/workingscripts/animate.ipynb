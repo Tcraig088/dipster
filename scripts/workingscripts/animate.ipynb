{
 "cells": [
  {
   "cell_type": "code",
   "execution_count": 9,
   "metadata": {},
   "outputs": [],
   "source": [
    "import tomo3dt\n",
    "import napari\n",
    "import numpy as np\n",
    "import dask.array as da\n",
    "from dask.delayed import delayed\n",
    "import os \n",
    "import time\n",
    "from napari_animation import Animation\n",
    "\n",
    "path = '/home/tomopc5/Documents/Datasets/Simulations/ML'\n",
    "path_animations = '/home/tomopc5/Documents/Animations'\n",
    "samples = [\"NC-1\", \"NC-2\", \"NC-3\", \"NC-4\"]\n",
    "fname =[\"NC-1-vol.vmf\", \"NC-2-vol.vmf\", \"NC-3-vol.vmf\", \"NC-4-vol.vmf\"]\n",
    "files  = [os.path.join(path,fname[i]) for i in range(len(fname))]\n",
    "\n"
   ]
  },
  {
   "cell_type": "code",
   "execution_count": 10,
   "metadata": {},
   "outputs": [
    {
     "name": "stderr",
     "output_type": "stream",
     "text": [
      "WARNING: could not determine DPI\n"
     ]
    }
   ],
   "source": [
    "n=3\n",
    "vmf = tomo3dt.Volume4D(files[n])\n",
    "shape = (vmf.dimx,vmf.dimy,vmf.dimz)\n",
    "nptype = np.float32\n",
    "lazy_imread = delayed(vmf.read_vmf_record)\n",
    "lazy_arrays = [lazy_imread(t) for t in vmf.times]\n",
    "dask_arrays = [\n",
    "    da.from_delayed(delayed_reader, shape=shape, dtype=nptype)\n",
    "    for delayed_reader in lazy_arrays\n",
    "]\n",
    "# Stack into one large dask.array\n",
    "stack = da.stack(dask_arrays, axis=0)\n",
    "stack.shape  # (nfiles, nz, ny, nx)\n",
    "\n",
    "viewer = napari.Viewer(ndisplay=3)\n",
    "image = viewer.add_image(stack, scale=[1, 1, 1], contrast_limits=[0,1], multiscale=False)\n",
    "image.depiction = 'volume'\n",
    "image.rendering = 'attenuated_mip'\n",
    "image.colormap = 'bop orange'\n",
    "viewer.scale_bar.visible = True\n",
    "viewer.scale_bar.ticks = False\n",
    "\n",
    "viewer.dims.current_step = (7,0,0,0)\n",
    "\n",
    "\n"
   ]
  },
  {
   "cell_type": "code",
   "execution_count": 11,
   "metadata": {},
   "outputs": [
    {
     "name": "stdout",
     "output_type": "stream",
     "text": [
      "Rendering frames...\n"
     ]
    },
    {
     "name": "stderr",
     "output_type": "stream",
     "text": [
      "  0%|          | 0/4306 [00:00<?, ?it/s]IMAGEIO FFMPEG_WRITER WARNING: input image is not divisible by macro_block_size=16, resizing from (812, 599) to (816, 608) to ensure video compatibility with most codecs and players. To prevent resizing, make your input image divisible by the macro_block_size or set the macro_block_size to 1 (risking incompatibility).\n",
      "100%|██████████| 4306/4306 [03:41<00:00, 19.44it/s]\n"
     ]
    }
   ],
   "source": [
    "\n",
    "animation = Animation(viewer)\n",
    "viewer.update_console({'animation': animation})\n",
    "x = 0\n",
    "for i in vmf.times:\n",
    "    viewer.dims.current_step = (i,0,0,0)\n",
    "    for j in range(4):\n",
    "        viewer.camera.angles=(0,x,0)\n",
    "        animation.capture_keyframe(steps=15)\n",
    "        x += 90\n",
    "\n",
    "animation.animate(os.path.join(path_animations, samples[n]+'-true-vol.mp4'),fps=30, quality=8 )"
   ]
  },
  {
   "cell_type": "code",
   "execution_count": null,
   "metadata": {},
   "outputs": [],
   "source": [
    "\n"
   ]
  }
 ],
 "metadata": {
  "kernelspec": {
   "display_name": "build-env",
   "language": "python",
   "name": "python3"
  },
  "language_info": {
   "codemirror_mode": {
    "name": "ipython",
    "version": 3
   },
   "file_extension": ".py",
   "mimetype": "text/x-python",
   "name": "python",
   "nbconvert_exporter": "python",
   "pygments_lexer": "ipython3",
   "version": "3.10.11"
  },
  "orig_nbformat": 4
 },
 "nbformat": 4,
 "nbformat_minor": 2
}
